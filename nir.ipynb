{
 "cells": [
  {
   "cell_type": "code",
   "execution_count": 1,
   "metadata": {},
   "outputs": [],
   "source": [
    "import numpy as np\n",
    "import pandas as pd\n",
    "from sklearn import svm\n",
    "import matplotlib.pyplot as plt\n",
    "from sklearn import neighbors\n",
    "from sklearn.naive_bayes import GaussianNB\n",
    "from sklearn.utils import shuffle"
   ]
  },
  {
   "cell_type": "code",
   "execution_count": 2,
   "metadata": {},
   "outputs": [],
   "source": [
    "modelFolder = 'all'"
   ]
  },
  {
   "cell_type": "code",
   "execution_count": 21,
   "metadata": {},
   "outputs": [
    {
     "data": {
      "text/html": [
       "<div>\n",
       "<style scoped>\n",
       "    .dataframe tbody tr th:only-of-type {\n",
       "        vertical-align: middle;\n",
       "    }\n",
       "\n",
       "    .dataframe tbody tr th {\n",
       "        vertical-align: top;\n",
       "    }\n",
       "\n",
       "    .dataframe thead th {\n",
       "        text-align: right;\n",
       "    }\n",
       "</style>\n",
       "<table border=\"1\" class=\"dataframe\">\n",
       "  <thead>\n",
       "    <tr style=\"text-align: right;\">\n",
       "      <th></th>\n",
       "      <th>0ртм</th>\n",
       "      <th>1ртм</th>\n",
       "      <th>2ртм</th>\n",
       "      <th>3ртм</th>\n",
       "      <th>4ртм</th>\n",
       "      <th>5ртм</th>\n",
       "      <th>6ртм</th>\n",
       "      <th>7ртм</th>\n",
       "      <th>8ртм</th>\n",
       "      <th>0ик</th>\n",
       "      <th>1ик</th>\n",
       "      <th>2ик</th>\n",
       "      <th>3ик</th>\n",
       "      <th>4ик</th>\n",
       "      <th>5ик</th>\n",
       "      <th>6ик</th>\n",
       "      <th>7ик</th>\n",
       "      <th>8ик</th>\n",
       "    </tr>\n",
       "  </thead>\n",
       "  <tbody>\n",
       "    <tr>\n",
       "      <th>0</th>\n",
       "      <td>33.0</td>\n",
       "      <td>32.9</td>\n",
       "      <td>32.7</td>\n",
       "      <td>32.7</td>\n",
       "      <td>32.5</td>\n",
       "      <td>32.4</td>\n",
       "      <td>32.0</td>\n",
       "      <td>31.5</td>\n",
       "      <td>32.0</td>\n",
       "      <td>31.4</td>\n",
       "      <td>31.4</td>\n",
       "      <td>30.8</td>\n",
       "      <td>30.6</td>\n",
       "      <td>30.2</td>\n",
       "      <td>30.7</td>\n",
       "      <td>28.9</td>\n",
       "      <td>27.9</td>\n",
       "      <td>29.2</td>\n",
       "    </tr>\n",
       "    <tr>\n",
       "      <th>1</th>\n",
       "      <td>34.5</td>\n",
       "      <td>33.7</td>\n",
       "      <td>33.8</td>\n",
       "      <td>34.1</td>\n",
       "      <td>33.8</td>\n",
       "      <td>33.7</td>\n",
       "      <td>33.8</td>\n",
       "      <td>33.5</td>\n",
       "      <td>33.6</td>\n",
       "      <td>32.5</td>\n",
       "      <td>32.9</td>\n",
       "      <td>33.0</td>\n",
       "      <td>33.0</td>\n",
       "      <td>33.5</td>\n",
       "      <td>32.5</td>\n",
       "      <td>32.6</td>\n",
       "      <td>32.5</td>\n",
       "      <td>32.2</td>\n",
       "    </tr>\n",
       "    <tr>\n",
       "      <th>2</th>\n",
       "      <td>32.0</td>\n",
       "      <td>32.6</td>\n",
       "      <td>32.9</td>\n",
       "      <td>33.1</td>\n",
       "      <td>33.3</td>\n",
       "      <td>33.7</td>\n",
       "      <td>33.3</td>\n",
       "      <td>32.4</td>\n",
       "      <td>33.1</td>\n",
       "      <td>30.0</td>\n",
       "      <td>30.4</td>\n",
       "      <td>30.8</td>\n",
       "      <td>30.8</td>\n",
       "      <td>31.1</td>\n",
       "      <td>31.1</td>\n",
       "      <td>30.9</td>\n",
       "      <td>30.5</td>\n",
       "      <td>30.7</td>\n",
       "    </tr>\n",
       "    <tr>\n",
       "      <th>3</th>\n",
       "      <td>33.5</td>\n",
       "      <td>33.1</td>\n",
       "      <td>33.7</td>\n",
       "      <td>32.6</td>\n",
       "      <td>32.7</td>\n",
       "      <td>33.2</td>\n",
       "      <td>33.4</td>\n",
       "      <td>33.2</td>\n",
       "      <td>33.3</td>\n",
       "      <td>29.8</td>\n",
       "      <td>29.9</td>\n",
       "      <td>30.2</td>\n",
       "      <td>30.0</td>\n",
       "      <td>30.0</td>\n",
       "      <td>31.1</td>\n",
       "      <td>29.4</td>\n",
       "      <td>29.6</td>\n",
       "      <td>29.8</td>\n",
       "    </tr>\n",
       "    <tr>\n",
       "      <th>4</th>\n",
       "      <td>35.3</td>\n",
       "      <td>35.6</td>\n",
       "      <td>35.6</td>\n",
       "      <td>35.7</td>\n",
       "      <td>35.7</td>\n",
       "      <td>35.1</td>\n",
       "      <td>35.0</td>\n",
       "      <td>35.5</td>\n",
       "      <td>35.6</td>\n",
       "      <td>32.8</td>\n",
       "      <td>34.1</td>\n",
       "      <td>34.0</td>\n",
       "      <td>33.9</td>\n",
       "      <td>33.9</td>\n",
       "      <td>33.6</td>\n",
       "      <td>33.6</td>\n",
       "      <td>33.5</td>\n",
       "      <td>33.9</td>\n",
       "    </tr>\n",
       "  </tbody>\n",
       "</table>\n",
       "</div>"
      ],
      "text/plain": [
       "   0ртм  1ртм  2ртм  3ртм  4ртм  5ртм  6ртм  7ртм  8ртм   0ик   1ик   2ик  \\\n",
       "0  33.0  32.9  32.7  32.7  32.5  32.4  32.0  31.5  32.0  31.4  31.4  30.8   \n",
       "1  34.5  33.7  33.8  34.1  33.8  33.7  33.8  33.5  33.6  32.5  32.9  33.0   \n",
       "2  32.0  32.6  32.9  33.1  33.3  33.7  33.3  32.4  33.1  30.0  30.4  30.8   \n",
       "3  33.5  33.1  33.7  32.6  32.7  33.2  33.4  33.2  33.3  29.8  29.9  30.2   \n",
       "4  35.3  35.6  35.6  35.7  35.7  35.1  35.0  35.5  35.6  32.8  34.1  34.0   \n",
       "\n",
       "    3ик   4ик   5ик   6ик   7ик   8ик  \n",
       "0  30.6  30.2  30.7  28.9  27.9  29.2  \n",
       "1  33.0  33.5  32.5  32.6  32.5  32.2  \n",
       "2  30.8  31.1  31.1  30.9  30.5  30.7  \n",
       "3  30.0  30.0  31.1  29.4  29.6  29.8  \n",
       "4  33.9  33.9  33.6  33.6  33.5  33.9  "
      ]
     },
     "execution_count": 21,
     "metadata": {},
     "output_type": "execute_result"
    }
   ],
   "source": [
    "data = pd.read_csv(modelFolder + '/data.csv', \n",
    "                   delimiter=',', \n",
    "                   names=['0ртм', '1ртм', '2ртм', '3ртм', '4ртм', '5ртм', '6ртм', '7ртм', '8ртм', \n",
    "                          '0ик', '1ик', '2ик', '3ик', '4ик', '5ик', '6ик', '7ик', '8ик', 'target'])\n",
    "trainingTemperatures = data[['0ртм', '1ртм', '2ртм', '3ртм', '4ртм', '5ртм', '6ртм', '7ртм', '8ртм', \n",
    "                          '0ик', '1ик', '2ик', '3ик', '4ик', '5ик', '6ик', '7ик', '8ик']]\n",
    "trainingTemperatures = shuffle(trainingTemperatures)\n",
    "trainingTemperatures.reset_index(inplace=True, drop=True)\n",
    "trainingTemperatures.head()"
   ]
  },
  {
   "cell_type": "code",
   "execution_count": 22,
   "metadata": {},
   "outputs": [],
   "source": [
    "testingData = pd.read_csv(modelFolder + '/testing.csv', \n",
    "                          delimiter=',', \n",
    "                          names=['0ртм', '1ртм', '2ртм', '3ртм', '4ртм', '5ртм', '6ртм', '7ртм', '8ртм', \n",
    "                          '0ик', '1ик', '2ик', '3ик', '4ик', '5ик', '6ик', '7ик', '8ик', 'target'])\n",
    "testingTemperatures = testingData[['0ртм', '1ртм', '2ртм', '3ртм', '4ртм', '5ртм', '6ртм', '7ртм', '8ртм', \n",
    "                          '0ик', '1ик', '2ик', '3ик', '4ик', '5ик', '6ик', '7ик', '8ик']]"
   ]
  },
  {
   "cell_type": "markdown",
   "metadata": {},
   "source": [
    "# Метод SVM"
   ]
  },
  {
   "cell_type": "code",
   "execution_count": 23,
   "metadata": {},
   "outputs": [
    {
     "data": {
      "text/plain": [
       "SVC(C=1.0, cache_size=200, class_weight=None, coef0=0.0,\n",
       "    decision_function_shape='ovr', degree=3, gamma='scale', kernel='rbf',\n",
       "    max_iter=-1, probability=False, random_state=None, shrinking=True,\n",
       "    tol=0.001, verbose=False)"
      ]
     },
     "execution_count": 23,
     "metadata": {},
     "output_type": "execute_result"
    }
   ],
   "source": [
    "#SVM\n",
    "clf = svm.SVC(gamma='scale')\n",
    "clf.fit(trainingTemperatures, data.target)"
   ]
  },
  {
   "cell_type": "code",
   "execution_count": 24,
   "metadata": {},
   "outputs": [
    {
     "name": "stdout",
     "output_type": "stream",
     "text": [
      "Правильно определено: 57 \n",
      "Неправильно: 23\n"
     ]
    },
    {
     "data": {
      "image/png": "[encoded data removed]",
      "text/plain": [
       "<Figure size 432x288 with 1 Axes>"
      ]
     },
     "metadata": {},
     "output_type": "display_data"
    }
   ],
   "source": [
    "classes = clf.predict(testingTemperatures)\n",
    "\n",
    "testingData.target\n",
    "res = testingData.target == classes\n",
    "trueCount = 0\n",
    "for el in res:\n",
    "    if el == True:\n",
    "        trueCount += 1\n",
    "\n",
    "print('Правильно определено:', trueCount, '\\nНеправильно:', len(res) - trueCount)\n",
    "\n",
    "labels = 'Совпадает', 'Не совпадает'\n",
    "values = [trueCount, len(res) - trueCount]\n",
    "explode = (0.1, 0)\n",
    "\n",
    "fig1, ax1 = plt.subplots()\n",
    "ax1.pie(values, labels=labels, autopct='%1.1f%%',\n",
    "        shadow=True, startangle=90)\n",
    "ax1.axis('equal')\n",
    "\n",
    "plt.show()"
   ]
  },
  {
   "cell_type": "markdown",
   "metadata": {},
   "source": [
    "# Метод KNN (Ближайших соседей)"
   ]
  },
  {
   "cell_type": "code",
   "execution_count": 25,
   "metadata": {},
   "outputs": [
    {
     "data": {
      "text/plain": [
       "KNeighborsClassifier(algorithm='auto', leaf_size=30, metric='minkowski',\n",
       "                     metric_params=None, n_jobs=None, n_neighbors=20, p=2,\n",
       "                     weights='uniform')"
      ]
     },
     "execution_count": 25,
     "metadata": {},
     "output_type": "execute_result"
    }
   ],
   "source": [
    "#KNN\n",
    "clf = neighbors.KNeighborsClassifier(20, weights='uniform')\n",
    "clf.fit(trainingTemperatures, data.target)"
   ]
  },
  {
   "cell_type": "code",
   "execution_count": 26,
   "metadata": {},
   "outputs": [
    {
     "name": "stdout",
     "output_type": "stream",
     "text": [
      "Правильно определено: 53 \n",
      "Неправильно: 27\n"
     ]
    },
    {
     "data": {
      "image/png": "[encoded data removed]",
      "text/plain": [
       "<Figure size 432x288 with 1 Axes>"
      ]
     },
     "metadata": {},
     "output_type": "display_data"
    }
   ],
   "source": [
    "classes = clf.predict(testingTemperatures)\n",
    "\n",
    "testingData.target\n",
    "res = testingData.target == classes\n",
    "trueCount = 0\n",
    "for el in res:\n",
    "    if el == True:\n",
    "        trueCount += 1\n",
    "\n",
    "print('Правильно определено:', trueCount, '\\nНеправильно:', len(res) - trueCount)\n",
    "\n",
    "labels = 'Совпадает', 'Не совпадает'\n",
    "values = [trueCount, len(res) - trueCount]\n",
    "explode = (0.1, 0)\n",
    "\n",
    "fig1, ax1 = plt.subplots()\n",
    "ax1.pie(values, labels=labels, autopct='%1.1f%%',\n",
    "        shadow=True, startangle=90)\n",
    "ax1.axis('equal')\n",
    "\n",
    "plt.show()"
   ]
  },
  {
   "cell_type": "markdown",
   "metadata": {},
   "source": [
    "# Наивный баейсовский классификатор"
   ]
  },
  {
   "cell_type": "code",
   "execution_count": 27,
   "metadata": {},
   "outputs": [],
   "source": [
    "#NB\n",
    "gnb = GaussianNB()\n",
    "clf = gnb.fit(trainingTemperatures, data.target)"
   ]
  },
  {
   "cell_type": "code",
   "execution_count": 28,
   "metadata": {},
   "outputs": [
    {
     "name": "stdout",
     "output_type": "stream",
     "text": [
      "Правильно определено: 45 \n",
      "Неправильно: 35\n"
     ]
    },
    {
     "data": {
      "image/png": "[encoded data removed]",
      "text/plain": [
       "<Figure size 432x288 with 1 Axes>"
      ]
     },
     "metadata": {},
     "output_type": "display_data"
    }
   ],
   "source": [
    "classes = clf.predict(testingTemperatures)\n",
    "\n",
    "testingData.target\n",
    "res = testingData.target == classes\n",
    "trueCount = 0\n",
    "for el in res:\n",
    "    if el == True:\n",
    "        trueCount += 1\n",
    "\n",
    "print('Правильно определено:', trueCount, '\\nНеправильно:', len(res) - trueCount)\n",
    "\n",
    "labels = 'Совпадает', 'Не совпадает'\n",
    "values = [trueCount, len(res) - trueCount]\n",
    "explode = (0.1, 0)\n",
    "\n",
    "fig1, ax1 = plt.subplots()\n",
    "ax1.pie(values, labels=labels, autopct='%1.1f%%',\n",
    "        shadow=True, startangle=90)\n",
    "ax1.axis('equal')\n",
    "\n",
    "plt.show()"
   ]
  }
 ],
 "metadata": {
  "kernelspec": {
   "display_name": "Python 3",
   "language": "python",
   "name": "python3"
  },
  "language_info": {
   "codemirror_mode": {
    "name": "ipython",
    "version": 3
   },
   "file_extension": ".py",
   "mimetype": "text/x-python",
   "name": "python",
   "nbconvert_exporter": "python",
   "pygments_lexer": "ipython3",
   "version": "3.6.8"
  }
 },
 "nbformat": 4,
 "nbformat_minor": 2
}

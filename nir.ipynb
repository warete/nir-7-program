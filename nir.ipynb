{
 "cells": [
  {
   "cell_type": "code",
   "execution_count": 2,
   "metadata": {},
   "outputs": [],
   "source": [
    "import numpy as np\n",
    "import pandas as pd\n",
    "from sklearn import svm\n",
    "import matplotlib.pyplot as plt\n",
    "from sklearn import neighbors\n",
    "from sklearn.naive_bayes import GaussianNB\n",
    "from sklearn.utils import shuffle"
   ]
  },
  {
   "cell_type": "code",
   "execution_count": 103,
   "metadata": {},
   "outputs": [],
   "source": [
    "modelFolder = '075'"
   ]
  },
  {
   "cell_type": "code",
   "execution_count": 104,
   "metadata": {},
   "outputs": [],
   "source": [
    "def calcParams(testing, predict):\n",
    "    zdorovieTesting = 0\n",
    "    bolnieTesting = 0\n",
    "    for item in testing:    \n",
    "        if item == 0:\n",
    "            zdorovieTesting += 1\n",
    "        else:\n",
    "            bolnieTesting += 1\n",
    "    #print(zdorovieTesting, bolnieTesting);\n",
    "    zdoroviePredict = 0\n",
    "    bolniePredict = 0\n",
    "    for item in predict:    \n",
    "        if item == 0:\n",
    "            zdoroviePredict += 1\n",
    "        else:\n",
    "            bolniePredict += 1\n",
    "    #print(zdoroviePredict, bolniePredict);\n",
    "\n",
    "    chuvstv = bolniePredict / bolnieTesting\n",
    "    specifich = zdoroviePredict / zdorovieTesting\n",
    "    return chuvstv,specifich"
   ]
  },
  {
   "cell_type": "code",
   "execution_count": 124,
   "metadata": {},
   "outputs": [
    {
     "data": {
      "text/html": [
       "<div>\n",
       "<style scoped>\n",
       "    .dataframe tbody tr th:only-of-type {\n",
       "        vertical-align: middle;\n",
       "    }\n",
       "\n",
       "    .dataframe tbody tr th {\n",
       "        vertical-align: top;\n",
       "    }\n",
       "\n",
       "    .dataframe thead th {\n",
       "        text-align: right;\n",
       "    }\n",
       "</style>\n",
       "<table border=\"1\" class=\"dataframe\">\n",
       "  <thead>\n",
       "    <tr style=\"text-align: right;\">\n",
       "      <th></th>\n",
       "      <th>0ртм</th>\n",
       "      <th>1ртм</th>\n",
       "      <th>2ртм</th>\n",
       "      <th>3ртм</th>\n",
       "      <th>4ртм</th>\n",
       "      <th>5ртм</th>\n",
       "      <th>6ртм</th>\n",
       "      <th>7ртм</th>\n",
       "      <th>8ртм</th>\n",
       "      <th>0ик</th>\n",
       "      <th>1ик</th>\n",
       "      <th>2ик</th>\n",
       "      <th>3ик</th>\n",
       "      <th>4ик</th>\n",
       "      <th>5ик</th>\n",
       "      <th>6ик</th>\n",
       "      <th>7ик</th>\n",
       "      <th>8ик</th>\n",
       "      <th>target</th>\n",
       "    </tr>\n",
       "  </thead>\n",
       "  <tbody>\n",
       "    <tr>\n",
       "      <th>0</th>\n",
       "      <td>33.2</td>\n",
       "      <td>32.9</td>\n",
       "      <td>32.8</td>\n",
       "      <td>33.0</td>\n",
       "      <td>33.3</td>\n",
       "      <td>33.3</td>\n",
       "      <td>33.2</td>\n",
       "      <td>33.9</td>\n",
       "      <td>33.6</td>\n",
       "      <td>30.7</td>\n",
       "      <td>30.6</td>\n",
       "      <td>30.7</td>\n",
       "      <td>31.2</td>\n",
       "      <td>31.1</td>\n",
       "      <td>30.6</td>\n",
       "      <td>30.9</td>\n",
       "      <td>30.8</td>\n",
       "      <td>30.8</td>\n",
       "      <td>0</td>\n",
       "    </tr>\n",
       "    <tr>\n",
       "      <th>1</th>\n",
       "      <td>34.9</td>\n",
       "      <td>34.1</td>\n",
       "      <td>34.0</td>\n",
       "      <td>33.8</td>\n",
       "      <td>33.2</td>\n",
       "      <td>32.9</td>\n",
       "      <td>33.7</td>\n",
       "      <td>33.2</td>\n",
       "      <td>33.6</td>\n",
       "      <td>32.3</td>\n",
       "      <td>31.7</td>\n",
       "      <td>31.8</td>\n",
       "      <td>31.6</td>\n",
       "      <td>31.1</td>\n",
       "      <td>31.0</td>\n",
       "      <td>30.6</td>\n",
       "      <td>31.0</td>\n",
       "      <td>30.8</td>\n",
       "      <td>0</td>\n",
       "    </tr>\n",
       "    <tr>\n",
       "      <th>2</th>\n",
       "      <td>32.8</td>\n",
       "      <td>33.2</td>\n",
       "      <td>33.9</td>\n",
       "      <td>33.4</td>\n",
       "      <td>34.0</td>\n",
       "      <td>33.7</td>\n",
       "      <td>33.3</td>\n",
       "      <td>33.1</td>\n",
       "      <td>32.7</td>\n",
       "      <td>31.5</td>\n",
       "      <td>31.8</td>\n",
       "      <td>31.8</td>\n",
       "      <td>30.9</td>\n",
       "      <td>32.1</td>\n",
       "      <td>31.1</td>\n",
       "      <td>30.4</td>\n",
       "      <td>30.5</td>\n",
       "      <td>29.7</td>\n",
       "      <td>0</td>\n",
       "    </tr>\n",
       "    <tr>\n",
       "      <th>3</th>\n",
       "      <td>32.2</td>\n",
       "      <td>32.0</td>\n",
       "      <td>32.1</td>\n",
       "      <td>31.8</td>\n",
       "      <td>33.1</td>\n",
       "      <td>32.6</td>\n",
       "      <td>31.9</td>\n",
       "      <td>31.3</td>\n",
       "      <td>30.9</td>\n",
       "      <td>30.1</td>\n",
       "      <td>30.1</td>\n",
       "      <td>30.3</td>\n",
       "      <td>29.8</td>\n",
       "      <td>30.6</td>\n",
       "      <td>30.4</td>\n",
       "      <td>29.7</td>\n",
       "      <td>29.2</td>\n",
       "      <td>28.6</td>\n",
       "      <td>0</td>\n",
       "    </tr>\n",
       "    <tr>\n",
       "      <th>4</th>\n",
       "      <td>34.9</td>\n",
       "      <td>35.3</td>\n",
       "      <td>35.2</td>\n",
       "      <td>35.1</td>\n",
       "      <td>35.0</td>\n",
       "      <td>34.7</td>\n",
       "      <td>34.9</td>\n",
       "      <td>35.1</td>\n",
       "      <td>35.1</td>\n",
       "      <td>31.6</td>\n",
       "      <td>32.4</td>\n",
       "      <td>32.7</td>\n",
       "      <td>32.9</td>\n",
       "      <td>33.3</td>\n",
       "      <td>32.8</td>\n",
       "      <td>32.0</td>\n",
       "      <td>32.2</td>\n",
       "      <td>34.2</td>\n",
       "      <td>0</td>\n",
       "    </tr>\n",
       "  </tbody>\n",
       "</table>\n",
       "</div>"
      ],
      "text/plain": [
       "   0ртм  1ртм  2ртм  3ртм  4ртм  5ртм  6ртм  7ртм  8ртм   0ик   1ик   2ик  \\\n",
       "0  33.2  32.9  32.8  33.0  33.3  33.3  33.2  33.9  33.6  30.7  30.6  30.7   \n",
       "1  34.9  34.1  34.0  33.8  33.2  32.9  33.7  33.2  33.6  32.3  31.7  31.8   \n",
       "2  32.8  33.2  33.9  33.4  34.0  33.7  33.3  33.1  32.7  31.5  31.8  31.8   \n",
       "3  32.2  32.0  32.1  31.8  33.1  32.6  31.9  31.3  30.9  30.1  30.1  30.3   \n",
       "4  34.9  35.3  35.2  35.1  35.0  34.7  34.9  35.1  35.1  31.6  32.4  32.7   \n",
       "\n",
       "    3ик   4ик   5ик   6ик   7ик   8ик  target  \n",
       "0  31.2  31.1  30.6  30.9  30.8  30.8       0  \n",
       "1  31.6  31.1  31.0  30.6  31.0  30.8       0  \n",
       "2  30.9  32.1  31.1  30.4  30.5  29.7       0  \n",
       "3  29.8  30.6  30.4  29.7  29.2  28.6       0  \n",
       "4  32.9  33.3  32.8  32.0  32.2  34.2       0  "
      ]
     },
     "execution_count": 124,
     "metadata": {},
     "output_type": "execute_result"
    }
   ],
   "source": [
    "data = pd.read_csv(modelFolder + '/data.csv', \n",
    "                   delimiter=',', \n",
    "                   names=['0ртм', '1ртм', '2ртм', '3ртм', '4ртм', '5ртм', '6ртм', '7ртм', '8ртм', \n",
    "                          '0ик', '1ик', '2ик', '3ик', '4ик', '5ик', '6ик', '7ик', '8ик', 'target'])\n",
    "trainingTemperatures = data[['0ртм', '1ртм', '2ртм', '3ртм', '4ртм', '5ртм', '6ртм', '7ртм', '8ртм', \n",
    "                          '0ик', '1ик', '2ик', '3ик', '4ик', '5ик', '6ик', '7ик', '8ик']]\n",
    "trainingTemperatures = shuffle(trainingTemperatures)\n",
    "trainingTemperatures.reset_index(inplace=True, drop=True)\n",
    "data.head()"
   ]
  },
  {
   "cell_type": "code",
   "execution_count": 121,
   "metadata": {},
   "outputs": [],
   "source": [
    "testingData = pd.read_csv(modelFolder + '/testing.csv', \n",
    "                          delimiter=',', \n",
    "                          names=['0ртм', '1ртм', '2ртм', '3ртм', '4ртм', '5ртм', '6ртм', '7ртм', '8ртм', \n",
    "                          '0ик', '1ик', '2ик', '3ик', '4ик', '5ик', '6ик', '7ик', '8ик', 'target'])\n",
    "testingTemperatures = testingData[['0ртм', '1ртм', '2ртм', '3ртм', '4ртм', '5ртм', '6ртм', '7ртм', '8ртм', \n",
    "                          '0ик', '1ик', '2ик', '3ик', '4ик', '5ик', '6ик', '7ик', '8ик']]"
   ]
  },
  {
   "cell_type": "markdown",
   "metadata": {},
   "source": [
    "# Метод SVM"
   ]
  },
  {
   "cell_type": "code",
   "execution_count": 125,
   "metadata": {},
   "outputs": [
    {
     "data": {
      "text/plain": [
       "SVC(C=1.0, cache_size=200, class_weight=None, coef0=0.0,\n",
       "    decision_function_shape='ovr', degree=3, gamma='scale', kernel='rbf',\n",
       "    max_iter=-1, probability=False, random_state=None, shrinking=True,\n",
       "    tol=0.001, verbose=False)"
      ]
     },
     "execution_count": 125,
     "metadata": {},
     "output_type": "execute_result"
    }
   ],
   "source": [
    "#SVM\n",
    "clf = svm.SVC(gamma='scale')\n",
    "clf.fit(trainingTemperatures, data.target)"
   ]
  },
  {
   "cell_type": "code",
   "execution_count": 126,
   "metadata": {},
   "outputs": [
    {
     "name": "stdout",
     "output_type": "stream",
     "text": [
      "Правильно определено: 27 \n",
      "Неправильно: 13\n",
      "Чувствительность: 0.55 \n",
      "Специфичность: 1.45\n"
     ]
    },
    {
     "data": {
      "image/png": "[encoded data removed]",
      "text/plain": [
       "<Figure size 432x288 with 1 Axes>"
      ]
     },
     "metadata": {},
     "output_type": "display_data"
    }
   ],
   "source": [
    "classes = clf.predict(testingTemperatures)\n",
    "\n",
    "testingData.target\n",
    "res = testingData.target == classes\n",
    "trueCount = 0\n",
    "for el in res:\n",
    "    if el == True:\n",
    "        trueCount += 1\n",
    "\n",
    "print('Правильно определено:', trueCount, '\\nНеправильно:', len(res) - trueCount)\n",
    "chuvstv, specifich = calcParams(testingData.target, classes)\n",
    "print('Чувствительность:', chuvstv, '\\nСпецифичность:', specifich);\n",
    "\n",
    "labels = 'Совпадает', 'Не совпадает'\n",
    "values = [trueCount, len(res) - trueCount]\n",
    "explode = (0.1, 0)\n",
    "\n",
    "fig1, ax1 = plt.subplots()\n",
    "ax1.pie(values, labels=labels, autopct='%1.1f%%',\n",
    "        shadow=True, startangle=90)\n",
    "ax1.axis('equal')\n",
    "\n",
    "plt.show()"
   ]
  },
  {
   "cell_type": "markdown",
   "metadata": {},
   "source": [
    "# Метод KNN (Ближайших соседей)"
   ]
  },
  {
   "cell_type": "code",
   "execution_count": 99,
   "metadata": {},
   "outputs": [
    {
     "data": {
      "text/plain": [
       "KNeighborsClassifier(algorithm='auto', leaf_size=30, metric='minkowski',\n",
       "                     metric_params=None, n_jobs=None, n_neighbors=20, p=2,\n",
       "                     weights='uniform')"
      ]
     },
     "execution_count": 99,
     "metadata": {},
     "output_type": "execute_result"
    }
   ],
   "source": [
    "#KNN\n",
    "clf = neighbors.KNeighborsClassifier(20, weights='uniform')\n",
    "clf.fit(trainingTemperatures, data.target)"
   ]
  },
  {
   "cell_type": "code",
   "execution_count": 100,
   "metadata": {},
   "outputs": [
    {
     "name": "stdout",
     "output_type": "stream",
     "text": [
      "Правильно определено: 21 \n",
      "Неправильно: 19\n",
      "Чувствительность: 0.65 \n",
      "Специфичность: 1.35\n"
     ]
    },
    {
     "data": {
      "image/png": "[encoded data removed]",
      "text/plain": [
       "<Figure size 432x288 with 1 Axes>"
      ]
     },
     "metadata": {},
     "output_type": "display_data"
    }
   ],
   "source": [
    "classes = clf.predict(testingTemperatures)\n",
    "\n",
    "testingData.target\n",
    "res = testingData.target == classes\n",
    "trueCount = 0\n",
    "for el in res:\n",
    "    if el == True:\n",
    "        trueCount += 1\n",
    "\n",
    "print('Правильно определено:', trueCount, '\\nНеправильно:', len(res) - trueCount)\n",
    "chuvstv, specifich = calcParams(testingData.target, classes)\n",
    "print('Чувствительность:', chuvstv, '\\nСпецифичность:', specifich);\n",
    "\n",
    "labels = 'Совпадает', 'Не совпадает'\n",
    "values = [trueCount, len(res) - trueCount]\n",
    "explode = (0.1, 0)\n",
    "\n",
    "fig1, ax1 = plt.subplots()\n",
    "ax1.pie(values, labels=labels, autopct='%1.1f%%',\n",
    "        shadow=True, startangle=90)\n",
    "ax1.axis('equal')\n",
    "\n",
    "plt.show()"
   ]
  },
  {
   "cell_type": "markdown",
   "metadata": {},
   "source": [
    "# Наивный баейсовский классификатор"
   ]
  },
  {
   "cell_type": "code",
   "execution_count": 101,
   "metadata": {},
   "outputs": [],
   "source": [
    "#NB\n",
    "gnb = GaussianNB()\n",
    "clf = gnb.fit(trainingTemperatures, data.target)"
   ]
  },
  {
   "cell_type": "code",
   "execution_count": 102,
   "metadata": {},
   "outputs": [
    {
     "name": "stdout",
     "output_type": "stream",
     "text": [
      "Правильно определено: 19 \n",
      "Неправильно: 21\n",
      "Чувствительность: 0.75 \n",
      "Специфичность: 1.25\n"
     ]
    },
    {
     "data": {
      "image/png": "[encoded data removed]",
      "text/plain": [
       "<Figure size 432x288 with 1 Axes>"
      ]
     },
     "metadata": {},
     "output_type": "display_data"
    }
   ],
   "source": [
    "classes = clf.predict(testingTemperatures)\n",
    "\n",
    "testingData.target\n",
    "res = testingData.target == classes\n",
    "trueCount = 0\n",
    "for el in res:\n",
    "    if el == True:\n",
    "        trueCount += 1\n",
    "\n",
    "print('Правильно определено:', trueCount, '\\nНеправильно:', len(res) - trueCount)\n",
    "chuvstv, specifich = calcParams(testingData.target, classes)\n",
    "print('Чувствительность:', chuvstv, '\\nСпецифичность:', specifich);\n",
    "\n",
    "labels = 'Совпадает', 'Не совпадает'\n",
    "values = [trueCount, len(res) - trueCount]\n",
    "explode = (0.1, 0)\n",
    "\n",
    "fig1, ax1 = plt.subplots()\n",
    "ax1.pie(values, labels=labels, autopct='%1.1f%%',\n",
    "        shadow=True, startangle=90)\n",
    "ax1.axis('equal')\n",
    "\n",
    "plt.show()"
   ]
  }
 ],
 "metadata": {
  "kernelspec": {
   "display_name": "Python 3",
   "language": "python",
   "name": "python3"
  },
  "language_info": {
   "codemirror_mode": {
    "name": "ipython",
    "version": 3
   },
   "file_extension": ".py",
   "mimetype": "text/x-python",
   "name": "python",
   "nbconvert_exporter": "python",
   "pygments_lexer": "ipython3",
   "version": "3.6.8"
  }
 },
 "nbformat": 4,
 "nbformat_minor": 2
}
